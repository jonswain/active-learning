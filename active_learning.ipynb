{
 "cells": [
  {
   "cell_type": "markdown",
   "metadata": {},
   "source": [
    "# Working with large virtual chemical libraries: Part 1 - Active Learning\n",
    "\n",
    "This is part 1 of a a planned three post series on working with large chemical libraries.\n",
    "\n",
    "Estimates of the size of [chemical space](https://en.wikipedia.org/wiki/Chemical_space) (the number of different molecules that could exist) range from 10<sup>50</sup> - 10<sup>80</sup> possible compounds, with the upper limits approaching estimates of the [total number of atoms in the universe](https://en.wikipedia.org/wiki/Observable_universe) (around 10<sup>80</sup> atoms). It's never going to be possible to make and test every possible chemical compound, even if we limit it to only [\"drug-like\" compounds](https://en.wikipedia.org/wiki/Druglikeness). Even with fast computational methods it's not always possible to exhaustatively screen virtual libraries. We need methods to find the best scoring compounds from within virtual libraries without scoring every single compound.\n",
    "\n",
    "Small companies may have hundreds of thousands to millions of physical compounds in their virtual library, and larger companies will have libraries of a few million. Virtual make-on-demand libraries, especially combinatorial libraries, are expanding into the billions of compounds (often called ultra-large libraries). [Enamine REAL](https://enamine.net/compound-collections/real-compounds/real-space-navigator) has 48 billion possible compounds. If your scoring function takes one second per compound, you could maybe screen one million compounds (but it will take 11.6 days), but a billion seconds is nearly 32 years. As the size of virtual libraries expands, it becomes impossible to screen them exhaustively.\n",
    "\n",
    "There are a range of methods for filtering the library for screening, such as similarity searching or Thompson sampling. In this post I'll dicuss active learning. \n",
    "\n",
    "## Active learning\n",
    "\n",
    "Active learning is a method for searching large libraries when the scoring function that is too computationally expensive to label the full library of compounds. A selection of data is labelled with the expensive scoring function, and a machine learning model is trained on these labels and used to score all compounds from within the library. The compounds with the best scores from the machine learning model are labelled using the more expensive function, and the data from this pooled and used to train a new machine learning model. This cycle is repeated until a finish criteria is met. \n",
    "\n",
    "The initial steps are:\n",
    "1. A random compound is selected as a reference compound.\n",
    "2. A random sample of the unlabelled data is selected and labelled using the expensive scoring function (Tanimoto similarity).\n",
    "3. These labelled datapoints are used to train a simple machine learning (random forest) regressor.\n",
    "\n",
    "Followed the a repeating cycle:\n",
    "\n",
    "3. The regressor is used to score the entire library\n",
    "4. The compounds with the highest scores from the machine learning regressor are labelled using the expensive scoring function\n",
    "5. The labels from the expensive scoring function are pooled and the machine learning model is re-trained\n",
    "\n",
    "## Imports\n",
    "\n",
    "First we need to import the libraries we will be using."
   ]
  },
  {
   "cell_type": "code",
   "execution_count": 1,
   "metadata": {},
   "outputs": [],
   "source": [
    "import gzip\n",
    "import math\n",
    "import re\n",
    "import shutil\n",
    "import subprocess\n",
    "from functools import partial\n",
    "from itertools import product\n",
    "from pathlib import Path\n",
    "\n",
    "import matplotlib.pyplot as plt\n",
    "import numpy as np\n",
    "import pandas as pd\n",
    "import seaborn as sns\n",
    "from rdkit import Chem\n",
    "from rdkit.Chem import AllChem, DataStructs, Descriptors\n",
    "from sklearn.ensemble import RandomForestRegressor\n",
    "from tqdm import tqdm"
   ]
  },
  {
   "cell_type": "markdown",
   "metadata": {},
   "source": [
    "## Expensive scoring function\n",
    "\n",
    "The first function we will define is the expensive scoring function, this will take a list of SMILES and return a list of scores. For this example I'm going to try find the compound from within the library with the lowest calculated Log P. This is actually a very fast calculation and can be done exhaustatively, which means we can confirm if active learning is finding the lowest value."
   ]
  },
  {
   "cell_type": "code",
   "execution_count": 2,
   "metadata": {},
   "outputs": [],
   "source": [
    "def calc_logp(smiles: list[str]) -> list[float]:\n",
    "    \"\"\"Calculates the logP value for a list of compounds.\n",
    "\n",
    "    Args:\n",
    "        smiles (pd.Series): The input molecules.\n",
    "\n",
    "    Returns:\n",
    "        np.arary: The scores of the molecules.\n",
    "    \"\"\"\n",
    "    return [Descriptors.MolLogP(Chem.MolFromSmiles(s)) for s in smiles]"
   ]
  },
  {
   "cell_type": "markdown",
   "metadata": {},
   "source": [
    "## Defining some useful functions\n",
    "\n",
    "Next we need to define some useful functions for the active learning pipeline.\n",
    "\n",
    "The first function creates a virtual library by combining three sets of building blocks. The smi files used here were borrowed from [Pat Walters repository on Thompson sampling](https://github.com/PatWalters/TS). The second creates the Morgan fingerprints for all compounds within the library for training the machine learning model, which is trained using the third function. The final function scores the entire library using the machine learning model."
   ]
  },
  {
   "cell_type": "code",
   "execution_count": 3,
   "metadata": {},
   "outputs": [],
   "source": [
    "def build_virtual_library() -> pd.DataFrame:\n",
    "    \"\"\"Builds a virtual library by coupling building blocks from the input smi files.\n",
    "\n",
    "    Returns:\n",
    "        pd.DataFrame: A DataFrame containing the molecular objects and SMILES strings of\n",
    "        the products.\n",
    "    \"\"\"\n",
    "    try:\n",
    "        library = pd.read_csv(\"data/library.csv\", index_col=\"smiles\")\n",
    "        library[\"mol\"] = [Chem.MolFromSmiles(s) for s in tqdm(library.index.to_list())]\n",
    "    except FileNotFoundError:\n",
    "        reaction_smarts = \"N[c:4][c:3]C(O)=O.[#6:1][NH2].[#6:2]C(=O)[OH]>>[C:2]c1n[c:4][c:3]c(=O)n1[C:1]\"\n",
    "        bb_types = [\"aminobenzoic\", \"carboxylic_acids\", \"primary_amines\"]\n",
    "        rxn = AllChem.ReactionFromSmarts(reaction_smarts)\n",
    "\n",
    "        building_blocks = []\n",
    "        for bb in bb_types:\n",
    "            smil = []\n",
    "            with open(Path(f\"data/{bb}_100.smi\"), \"r\") as f:\n",
    "                for line in f.readlines():\n",
    "                    smiles, _ = line.split()\n",
    "                    smil.append(smiles)\n",
    "            building_blocks.append(smil)\n",
    "\n",
    "        total_prods = math.prod([len(x) for x in building_blocks])\n",
    "\n",
    "        product_list = []\n",
    "        for reagents in tqdm(product(*building_blocks), total=total_prods):\n",
    "            reagent_mol_list = [Chem.MolFromSmiles(x) for x in reagents]\n",
    "            products = rxn.RunReactants(reagent_mol_list)\n",
    "            if products:\n",
    "                Chem.SanitizeMol(products[0][0])\n",
    "                product_list.append(products[0][0])\n",
    "\n",
    "        library = pd.DataFrame(\n",
    "            product_list,\n",
    "            index=[Chem.MolToSmiles(m) for m in product_list],\n",
    "            columns=[\"mol\"],\n",
    "        )\n",
    "        library.index.name = \"smiles\"\n",
    "        library[\"slow_scores\"] = np.NaN\n",
    "        library[\"model_scores\"] = np.NaN\n",
    "        library[\"scored_round\"] = np.NaN\n",
    "        library.to_csv(\"data/library.csv\")\n",
    "    return library\n",
    "\n",
    "\n",
    "def create_morgan_fingerprints(library: pd.DataFrame) -> pd.DataFrame:\n",
    "    \"\"\"Creates Morgan fingerprints for the input library.\n",
    "\n",
    "    Args:\n",
    "        library (pd.DataFrame): The input library.\n",
    "\n",
    "    Returns:\n",
    "        pd.DataFrame: The Morgan fingerprints of the input library.\n",
    "    \"\"\"\n",
    "    try:\n",
    "        fps_df = pd.read_csv(\"data/fingerprints.csv\").set_index(\"smiles\")\n",
    "    except FileNotFoundError:\n",
    "        fps = [\n",
    "            list(AllChem.GetMorganFingerprintAsBitVect(mol, radius=2))\n",
    "            for mol in tqdm(library.mol)\n",
    "        ]\n",
    "        fps_df = pd.DataFrame(\n",
    "            fps, columns=[f\"fp_{x}\" for x in range(len(fps[0]))], index=library.index\n",
    "        )\n",
    "        fps_df.to_csv(\"data/fingerprints.csv\")\n",
    "    return fps_df\n",
    "\n",
    "\n",
    "def train_ml_model(\n",
    "    library: pd.DataFrame, fingerprints: pd.DataFrame\n",
    ") -> RandomForestRegressor:\n",
    "    \"\"\"Trains a random forest regressor model on slow scores for the input library.\n",
    "\n",
    "    Args:\n",
    "        library (pd.DataFrame): The input library.\n",
    "        fingerprints (pd.DataFrame): The Morgan fingerprints of the input library.\n",
    "\n",
    "    Returns:\n",
    "        RandomForestRegressor: The trained random forest regressor model.\n",
    "    \"\"\"\n",
    "    scored = library[~library[\"slow_scores\"].isna()]\n",
    "    X = fingerprints.loc[scored.index]\n",
    "    y = scored[\"slow_scores\"]\n",
    "    regressor = RandomForestRegressor(max_depth=10)\n",
    "    regressor.fit(X, y)\n",
    "    return regressor\n",
    "\n",
    "\n",
    "def score_library(\n",
    "    library: pd.DataFrame,\n",
    "    regressor: RandomForestRegressor,\n",
    "    fingerprints: pd.DataFrame,\n",
    ") -> pd.DataFrame:\n",
    "    \"\"\"Scores the entire library with the trained model.\n",
    "\n",
    "    Args:\n",
    "        library (pd.DataFrame): The input library.\n",
    "        regressor (RandomForestRegressor): The trained random forest regressor model.\n",
    "        fingerprints (pd.DataFrame): The Morgan fingerprints of the input library.\n",
    "\n",
    "    Returns:\n",
    "        pd.DataFrame: The input library with the model scores.\n",
    "    \"\"\"\n",
    "    library[\"model_scores\"] = regressor.predict(fingerprints)\n",
    "    return library"
   ]
  },
  {
   "cell_type": "markdown",
   "metadata": {},
   "source": [
    "## Active learning pipeline\n",
    "\n",
    "We then need to set up the active learning pipeline. This follows the steps from above:\n",
    "\n",
    "1. A random compound is selected as a reference compound.\n",
    "2. A random sample of the unlabelled data is selected and labelled using the expensive scoring function (Tanimoto similarity).\n",
    "3. These labelled datapoints are used to train a simple machine learning (random forest) regressor.\n",
    "\n",
    "Followed the a repeating cycle:\n",
    "\n",
    "3. The regressor is used to score the entire library\n",
    "4. The compounds with the highest scores from the machine learning regressor are labelled using the expensive scoring function\n",
    "5. The labels from the expensive scoring function are pooled and the machine learning model is re-trained\n",
    "\n",
    "Because we sometimes know the best value for a scoring function, I've added a early stopping condition if the best compound is found to save time."
   ]
  },
  {
   "cell_type": "code",
   "execution_count": 4,
   "metadata": {},
   "outputs": [],
   "source": [
    "def run_active_learning(\n",
    "    library: pd.DataFrame,\n",
    "    fingerprints: pd.DataFrame,\n",
    "    compounds_per_round: int,\n",
    "    number_of_rounds: int,\n",
    "    scoring_function: callable,\n",
    "    minimize: bool,\n",
    "    early_stopping_value: float | None = None,\n",
    ") -> pd.DataFrame:\n",
    "    \"\"\"Runs active learning on the virtual library.\n",
    "\n",
    "    Args:\n",
    "        library (pd.DataFrame): The input virtual library.\n",
    "        fingerprints (pd.DataFrame): The Morgan fingerprints of the input library.\n",
    "        compounds_per_round (int): Number of compounds to select per round.\n",
    "        number_of_rounds (int): Number of active learning rounds.\n",
    "        scoring_function (callable): The slow scoring function.\n",
    "        minimize (bool): Whether to minimize or maximize the slow scoring function.\n",
    "        early_stopping_value (float | None): If the slow scoring function finds a\n",
    "        compound with this value, stops the active learning.\n",
    "\n",
    "    Returns:\n",
    "        pd.DataFrame: The input library with the slow scores added.\n",
    "    \"\"\"\n",
    "    # Select initial random sample\n",
    "    initial_sample = library.sample(compounds_per_round)\n",
    "    library[\"slow_scores\"] = np.NaN\n",
    "\n",
    "    # Score the initial sample\n",
    "    initial_scores = scoring_function(initial_sample.index.to_list())\n",
    "\n",
    "    # Save the slow scores\n",
    "    library.loc[initial_sample.index, \"slow_scores\"] = initial_scores\n",
    "\n",
    "    # Run active learning\n",
    "    al_round = 0\n",
    "    while al_round < number_of_rounds:\n",
    "        # Train the ML model\n",
    "        model = train_ml_model(library, fingerprints)\n",
    "\n",
    "        # Use the model to score the entire virtual library\n",
    "        library = score_library(library, model, fingerprints)\n",
    "\n",
    "        # Select the top scoring molecules with no slow scores\n",
    "        top_compounds = (\n",
    "            library[library[\"slow_scores\"].isna()]\n",
    "            .sort_values(\"slow_scores\", ascending=minimize)\n",
    "            .head(compounds_per_round)\n",
    "        )\n",
    "\n",
    "        # Score the top molecules with the slow function\n",
    "        slow_scores = scoring_function(top_compounds.index.to_list())\n",
    "        # Save the slow scores\n",
    "        library.loc[top_compounds.index, \"slow_scores\"] = slow_scores\n",
    "        library.loc[top_compounds.index, \"scored_round\"] = al_round\n",
    "\n",
    "        al_round += 1\n",
    "        if early_stopping_value is not None:\n",
    "            if minimize:\n",
    "                if library[\"slow_scores\"].min() == early_stopping_value:\n",
    "                    break\n",
    "            else:\n",
    "                if library[\"slow_scores\"].max() == early_stopping_value:\n",
    "                    break\n",
    "\n",
    "    return library"
   ]
  },
  {
   "cell_type": "markdown",
   "metadata": {},
   "source": [
    "## Example 1: Finding the compound with the lowest cLogP\n",
    "\n",
    "[Calculated LogP (cLogP)](https://en.wikipedia.org/wiki/Partition_coefficient) is an important property in drug discovery. Whilst we wouldn't usually be aiming to find the minimum or maximum value in a library, it's a useful example as it can be calculated quickly enough to exhaustively screen the library to confirm we're finding the best compound. In the example below, two compounds are randomly selected from the library and their Morgan fingerprints and cLogP values are used to train a machine learning model. This model scores the entire library and the cLogP for two best scoring compounds are pooled with the earlier compounds and the process repeated. After only six rounds (12 compounds scored), the active learning algorithm is able to find the lowest cLogP in the library, much quicker than exhaustatively screening all 132,500 compounds! The experiment was repeated ten times and the number of compounded needed is constant across the repeats. cLogP is a simple property, but it's still impressive how little data the machine learning model neededs to find the best scores."
   ]
  },
  {
   "cell_type": "code",
   "execution_count": 5,
   "metadata": {},
   "outputs": [
    {
     "name": "stdout",
     "output_type": "stream",
     "text": [
      "Creating virtual library\n"
     ]
    },
    {
     "name": "stderr",
     "output_type": "stream",
     "text": [
      "100%|██████████| 1000000/1000000 [01:42<00:00, 9747.08it/s]\n"
     ]
    },
    {
     "name": "stdout",
     "output_type": "stream",
     "text": [
      "Creating Morgan fingerprints\n"
     ]
    },
    {
     "name": "stderr",
     "output_type": "stream",
     "text": [
      "100%|██████████| 132500/132500 [04:11<00:00, 526.70it/s]\n"
     ]
    },
    {
     "name": "stdout",
     "output_type": "stream",
     "text": [
      "Minimum logP in the library: -5.00\n",
      "Running active learning\n"
     ]
    },
    {
     "name": "stderr",
     "output_type": "stream",
     "text": [
      "100%|██████████| 10/10 [00:21<00:00,  2.11s/it]"
     ]
    },
    {
     "name": "stdout",
     "output_type": "stream",
     "text": [
      "Average number of scored compounds before finding lowest value: 12.00\n"
     ]
    },
    {
     "name": "stderr",
     "output_type": "stream",
     "text": [
      "\n"
     ]
    }
   ],
   "source": [
    "# Active learning parameters\n",
    "COMPOUNDS_PER_ROUND = 2\n",
    "NUMBER_OF_ROUNDS = 50\n",
    "MINIMIZE = True\n",
    "NUMBER_OF_REPEATS = 10\n",
    "\n",
    "# Create the virtual library\n",
    "print(\"Creating virtual library\")\n",
    "library = build_virtual_library()\n",
    "\n",
    "# Create morgan fingerprints for the library\n",
    "print(\"Creating Morgan fingerprints\")\n",
    "fingerprints = create_morgan_fingerprints(library)\n",
    "\n",
    "# Find the minimum logP in the library\n",
    "all_clogp_values = calc_logp(library.index.to_list())\n",
    "print(f\"Minimum logP in the library: {min(all_clogp_values):.2f}\")\n",
    "\n",
    "# Run active learning\n",
    "print(\"Running active learning\")\n",
    "scored_compounds_per_run = []\n",
    "for i in tqdm(range(NUMBER_OF_REPEATS)):\n",
    "    # Reset library between rounds\n",
    "    library[\"slow_scores\"] = np.NaN\n",
    "    library[\"model_scores\"] = np.NaN\n",
    "    library[\"scored_round\"] = np.NaN\n",
    "\n",
    "    # Active learning\n",
    "    library = run_active_learning(\n",
    "        library=library,\n",
    "        fingerprints=fingerprints,\n",
    "        compounds_per_round=COMPOUNDS_PER_ROUND,\n",
    "        number_of_rounds=NUMBER_OF_ROUNDS,\n",
    "        scoring_function=calc_logp,\n",
    "        minimize=MINIMIZE,\n",
    "        early_stopping_value=min(all_clogp_values),\n",
    "    )\n",
    "\n",
    "    # Log results\n",
    "    scored_compounds_per_run.append(len(library.loc[library.slow_scores.notna()]))\n",
    "\n",
    "ave_scored_compounds = np.mean(scored_compounds_per_run) - COMPOUNDS_PER_ROUND\n",
    "print(\n",
    "    f\"Average number of scored compounds before finding lowest value: {ave_scored_compounds:.2f}\"\n",
    ")"
   ]
  },
  {
   "cell_type": "markdown",
   "metadata": {},
   "source": [
    "## Example 2: Recovering a random compounds from within the library using Tanimoto similarity\n",
    "\n",
    "[Molecular similarity](https://en.wikipedia.org/wiki/Chemical_similarity) is often defined as the [Tanimoto similarity](https://en.wikipedia.org/wiki/Jaccard_index) between Morgan fingerprints. In the next experiment we'll try to maximise the Tanimoto similarity to a reference molecule. The reference molecule will be randomly selected from the library, so the maximum similarity will be 1. This turned out to be a siginificantly more difficult problem than the previous example minimizing cLogP. The number of compounds per round and number of rounded were increased (5000 compounds screened), and even still the reference molecule was only recovered once out of the ten repeats. This was a slightly surprising result considering the machine learning models were trained using the Morgan fingerprints that were also used in the Tanimoto similarity."
   ]
  },
  {
   "cell_type": "code",
   "execution_count": 7,
   "metadata": {},
   "outputs": [
    {
     "name": "stdout",
     "output_type": "stream",
     "text": [
      "Running active learning\n"
     ]
    },
    {
     "name": "stderr",
     "output_type": "stream",
     "text": [
      "100%|██████████| 10/10 [22:30<00:00, 135.02s/it]\n"
     ]
    },
    {
     "data": {
      "text/html": [
       "<style type=\"text/css\">\n",
       "</style>\n",
       "<table id=\"T_5ea76\">\n",
       "  <thead>\n",
       "    <tr>\n",
       "      <th class=\"blank level0\" >&nbsp;</th>\n",
       "      <th id=\"T_5ea76_level0_col0\" class=\"col_heading level0 col0\" >reference_molecule</th>\n",
       "      <th id=\"T_5ea76_level0_col1\" class=\"col_heading level0 col1\" >compounds_scored</th>\n",
       "      <th id=\"T_5ea76_level0_col2\" class=\"col_heading level0 col2\" >top_scorer</th>\n",
       "      <th id=\"T_5ea76_level0_col3\" class=\"col_heading level0 col3\" >top_score</th>\n",
       "    </tr>\n",
       "    <tr>\n",
       "      <th class=\"index_name level0\" >round</th>\n",
       "      <th class=\"blank col0\" >&nbsp;</th>\n",
       "      <th class=\"blank col1\" >&nbsp;</th>\n",
       "      <th class=\"blank col2\" >&nbsp;</th>\n",
       "      <th class=\"blank col3\" >&nbsp;</th>\n",
       "    </tr>\n",
       "  </thead>\n",
       "  <tbody>\n",
       "    <tr>\n",
       "      <th id=\"T_5ea76_level0_row0\" class=\"row_heading level0 row0\" >0</th>\n",
       "      <td id=\"T_5ea76_row0_col0\" class=\"data row0 col0\" >COc1ccc2c(=O)n(C(=N)NCC(=O)O)c([C@@H](CN)CO)nc2c1OC</td>\n",
       "      <td id=\"T_5ea76_row0_col1\" class=\"data row0 col1\" >5100</td>\n",
       "      <td id=\"T_5ea76_row0_col2\" class=\"data row0 col2\" >N=C(NCC(=O)O)n1c([C@H](CN)CO)nc2c(=O)[nH]c(=O)[nH]c2c1=O</td>\n",
       "      <td id=\"T_5ea76_row0_col3\" class=\"data row0 col3\" >0.466</td>\n",
       "    </tr>\n",
       "    <tr>\n",
       "      <th id=\"T_5ea76_level0_row1\" class=\"row_heading level0 row1\" >1</th>\n",
       "      <td id=\"T_5ea76_row1_col0\" class=\"data row1 col0\" >CC(=O)OC[C@H](C(=O)O)n1c([C@H](N)CN(C)C)nc2[nH][nH]c(=O)c2c1=O</td>\n",
       "      <td id=\"T_5ea76_row1_col1\" class=\"data row1 col1\" >3300</td>\n",
       "      <td id=\"T_5ea76_row1_col2\" class=\"data row1 col2\" >CC(=O)OC[C@H](C(=O)O)n1c([C@H](N)CN(C)C)nc2[nH][nH]c(=O)c2c1=O</td>\n",
       "      <td id=\"T_5ea76_row1_col3\" class=\"data row1 col3\" >1.000</td>\n",
       "    </tr>\n",
       "    <tr>\n",
       "      <th id=\"T_5ea76_level0_row2\" class=\"row_heading level0 row2\" >2</th>\n",
       "      <td id=\"T_5ea76_row2_col0\" class=\"data row2 col0\" >Cc1cc2nc([C@H](C)NC(=O)CN)n(CC[C@H](N)C(=O)O)c(=O)c2cc1O</td>\n",
       "      <td id=\"T_5ea76_row2_col1\" class=\"data row2 col1\" >5100</td>\n",
       "      <td id=\"T_5ea76_row2_col2\" class=\"data row2 col2\" >C[C@H](NC(=O)CN)c1nc2c(c(=O)n1CC[C@H](N)C(=O)O)c(=O)n(C)c(=O)n2C</td>\n",
       "      <td id=\"T_5ea76_row2_col3\" class=\"data row2 col3\" >0.506</td>\n",
       "    </tr>\n",
       "    <tr>\n",
       "      <th id=\"T_5ea76_level0_row3\" class=\"row_heading level0 row3\" >3</th>\n",
       "      <td id=\"T_5ea76_row3_col0\" class=\"data row3 col0\" >Nc1nncn1Cc1nc2c(cnc3ccnn32)c(=O)n1C(=O)[C@H](N)CC(=O)O</td>\n",
       "      <td id=\"T_5ea76_row3_col1\" class=\"data row3 col1\" >5100</td>\n",
       "      <td id=\"T_5ea76_row3_col2\" class=\"data row3 col2\" >Cn1c(=O)c2c(=O)n(C(=O)[C@@H](N)CC(=O)O)c(Cn3cnnc3N)nc2n(C)c1=O</td>\n",
       "      <td id=\"T_5ea76_row3_col3\" class=\"data row3 col3\" >0.495</td>\n",
       "    </tr>\n",
       "    <tr>\n",
       "      <th id=\"T_5ea76_level0_row4\" class=\"row_heading level0 row4\" >4</th>\n",
       "      <td id=\"T_5ea76_row4_col0\" class=\"data row4 col0\" >Cn1nnc2nc(C3(O)CC(N)C3)n([C@H](CO)C(=O)O)c(=O)c21</td>\n",
       "      <td id=\"T_5ea76_row4_col1\" class=\"data row4 col1\" >5100</td>\n",
       "      <td id=\"T_5ea76_row4_col2\" class=\"data row4 col2\" >Cn1c(=O)c2c(=O)n([C@@H](CO)C(=O)O)c(C3(O)CC(N)C3)nc2n(C)c1=O</td>\n",
       "      <td id=\"T_5ea76_row4_col3\" class=\"data row4 col3\" >0.488</td>\n",
       "    </tr>\n",
       "    <tr>\n",
       "      <th id=\"T_5ea76_level0_row5\" class=\"row_heading level0 row5\" >5</th>\n",
       "      <td id=\"T_5ea76_row5_col0\" class=\"data row5 col0\" >Cn1cc2c(=O)n(CC[C@@H](N)C(=O)O)c([C@H](CO)NC(N)=O)nc2n1</td>\n",
       "      <td id=\"T_5ea76_row5_col1\" class=\"data row5 col1\" >5100</td>\n",
       "      <td id=\"T_5ea76_row5_col2\" class=\"data row5 col2\" >Cn1c(=O)c2c(=O)n(CC[C@@H](N)C(=O)O)c([C@H](CO)NC(N)=O)nc2n(C)c1=O</td>\n",
       "      <td id=\"T_5ea76_row5_col3\" class=\"data row5 col3\" >0.518</td>\n",
       "    </tr>\n",
       "    <tr>\n",
       "      <th id=\"T_5ea76_level0_row6\" class=\"row_heading level0 row6\" >6</th>\n",
       "      <td id=\"T_5ea76_row6_col0\" class=\"data row6 col0\" >COC(=O)c1ccc2c(=O)n(CC[C@@H](N)C(=O)O)c([C@@H](N)CCO)nc2c1</td>\n",
       "      <td id=\"T_5ea76_row6_col1\" class=\"data row6 col1\" >5100</td>\n",
       "      <td id=\"T_5ea76_row6_col2\" class=\"data row6 col2\" >Cn1c(=O)c2c(=O)n(CC[C@@H](N)C(=O)O)c([C@@H](N)CCO)nc2n(C)c1=O</td>\n",
       "      <td id=\"T_5ea76_row6_col3\" class=\"data row6 col3\" >0.449</td>\n",
       "    </tr>\n",
       "    <tr>\n",
       "      <th id=\"T_5ea76_level0_row7\" class=\"row_heading level0 row7\" >7</th>\n",
       "      <td id=\"T_5ea76_row7_col0\" class=\"data row7 col0\" >C[C@H](O)[C@H](N)c1nc2cnc(Cl)nc2c(=O)n1[C@H](C(=O)O)[C@@H](C)O</td>\n",
       "      <td id=\"T_5ea76_row7_col1\" class=\"data row7 col1\" >5100</td>\n",
       "      <td id=\"T_5ea76_row7_col2\" class=\"data row7 col2\" >C[C@H](O)[C@@H](C(=O)O)n1c([C@@H](N)[C@@H](C)O)nc2c(=O)[nH]c(N)nc2c1=O</td>\n",
       "      <td id=\"T_5ea76_row7_col3\" class=\"data row7 col3\" >0.434</td>\n",
       "    </tr>\n",
       "    <tr>\n",
       "      <th id=\"T_5ea76_level0_row8\" class=\"row_heading level0 row8\" >8</th>\n",
       "      <td id=\"T_5ea76_row8_col0\" class=\"data row8 col0\" >Cn1cnc2c(=O)n(C(=O)C[C@H](N)C(=O)O)c([C@@H](N)CO)nc21</td>\n",
       "      <td id=\"T_5ea76_row8_col1\" class=\"data row8 col1\" >5100</td>\n",
       "      <td id=\"T_5ea76_row8_col2\" class=\"data row8 col2\" >Cn1c(=O)c2c(=O)n(C(=O)C[C@H](N)C(=O)O)c([C@H](N)CO)nc2n(C)c1=O</td>\n",
       "      <td id=\"T_5ea76_row8_col3\" class=\"data row8 col3\" >0.519</td>\n",
       "    </tr>\n",
       "    <tr>\n",
       "      <th id=\"T_5ea76_level0_row9\" class=\"row_heading level0 row9\" >9</th>\n",
       "      <td id=\"T_5ea76_row9_col0\" class=\"data row9 col0\" >C[C@@H](O)[C@H](N)c1nc2nc(N)ncc2c(=O)n1C(=O)NCC(=O)O</td>\n",
       "      <td id=\"T_5ea76_row9_col1\" class=\"data row9 col1\" >5100</td>\n",
       "      <td id=\"T_5ea76_row9_col2\" class=\"data row9 col2\" >C[C@@H](O)[C@H](N)c1nc2[nH][nH]c(=O)c2c(=O)n1C(=O)NCC(=O)O</td>\n",
       "      <td id=\"T_5ea76_row9_col3\" class=\"data row9 col3\" >0.458</td>\n",
       "    </tr>\n",
       "  </tbody>\n",
       "</table>\n"
      ],
      "text/plain": [
       "<pandas.io.formats.style.Styler at 0x159126ba0>"
      ]
     },
     "execution_count": 7,
     "metadata": {},
     "output_type": "execute_result"
    }
   ],
   "source": [
    "def calc_similarity(comparison_smiles: list[str], ref_smiles: str) -> list[float]:\n",
    "    \"\"\"Calculates the Tanimoto similarity of a reference compound to a list of\n",
    "    comparison compounds.\n",
    "\n",
    "    Args:\n",
    "        comparison_smiles (list[str]): List of SMILES to compare to\n",
    "        ref_smiles (str): SMILES of the reference compound\n",
    "\n",
    "    Returns:\n",
    "        list[float]: List of similarity scores\n",
    "    \"\"\"\n",
    "    ref_mol = Chem.MolFromSmiles(ref_smiles)\n",
    "    comparison_mols = [Chem.MolFromSmiles(x) for x in comparison_smiles]\n",
    "    fpgen = AllChem.GetMorganGenerator()\n",
    "    ref_fp = fpgen.GetFingerprint(ref_mol)\n",
    "    comparison_fps = [fpgen.GetFingerprint(x) for x in comparison_mols]\n",
    "    return [DataStructs.FingerprintSimilarity(ref_fp, x) for x in comparison_fps]\n",
    "\n",
    "\n",
    "# Active learning parameters\n",
    "COMPOUNDS_PER_ROUND = 100\n",
    "NUMBER_OF_ROUNDS = 50\n",
    "MINIMIZE = False\n",
    "NUMBER_OF_REPEATS = 10\n",
    "\n",
    "# Run active learning\n",
    "print(\"Running active learning\")\n",
    "scored_compounds_per_run = []\n",
    "for i in tqdm(range(NUMBER_OF_REPEATS)):\n",
    "    # Choose a random reference molecule\n",
    "    ref_smiles = library.sample(1).index[0]\n",
    "\n",
    "    # Reset library between rounds\n",
    "    library[\"slow_scores\"] = np.NaN\n",
    "    library[\"model_scores\"] = np.NaN\n",
    "    library[\"scored_round\"] = np.NaN\n",
    "\n",
    "    # Active learning\n",
    "    library = run_active_learning(\n",
    "        library=library,\n",
    "        fingerprints=fingerprints,\n",
    "        compounds_per_round=COMPOUNDS_PER_ROUND,\n",
    "        number_of_rounds=NUMBER_OF_ROUNDS,\n",
    "        scoring_function=partial(calc_similarity, ref_smiles=ref_smiles),\n",
    "        minimize=MINIMIZE,\n",
    "        early_stopping_value=1,\n",
    "    )\n",
    "\n",
    "    # Log results\n",
    "    top = library[~library.slow_scores.isna()].sort_values(\n",
    "        \"slow_scores\", ascending=MINIMIZE\n",
    "    )\n",
    "    scored_compounds_per_run.append(\n",
    "        {\n",
    "            \"round\": i,\n",
    "            \"reference_molecule\": ref_smiles,\n",
    "            \"compounds_scored\": len(library[~library.slow_scores.isna()]),\n",
    "            \"top_scorer\": top.index.to_list()[0],\n",
    "            \"top_score\": top.slow_scores.values[0],\n",
    "        }\n",
    "    )\n",
    "\n",
    "pd.DataFrame(scored_compounds_per_run).set_index(\"round\").style.format(\n",
    "    {\"top_score\": \"{:.3f}\"}\n",
    ")"
   ]
  },
  {
   "cell_type": "markdown",
   "metadata": {},
   "source": [
    "Looking at the final run, we can see that in general the maximum similarity is not increasing significantly with further rounds, apart from the occasional spike as the model finds a similar compound. This suggests that increasing the number of rounds may not increase the performance."
   ]
  },
  {
   "cell_type": "code",
   "execution_count": 31,
   "metadata": {},
   "outputs": [
    {
     "data": {
      "image/png": "[encoded data removed]",
      "text/plain": [
       "<Figure size 640x480 with 1 Axes>"
      ]
     },
     "metadata": {},
     "output_type": "display_data"
    }
   ],
   "source": [
    "sns.lineplot(\n",
    "    library[[\"slow_scores\", \"scored_round\"]].groupby(\"scored_round\").max().values\n",
    ").set(xlabel=\"Round\", ylabel=\"Max similarity to reference compound\")\n",
    "plt.show()"
   ]
  },
  {
   "cell_type": "markdown",
   "metadata": {},
   "source": [
    "## Why does AL work well for cLogP but not for Tanimoto similarity?\n",
    "\n",
    "AL was very sucessful at finding the lowest cLogP value in a library, but struggled to recover a randomly chosen reference molecule by trying to maximize the Tanimoto similarity. The reason behind this may be due to the underlying distribution of data within the library. By plotting the cLogP values of all compounds within the library, we can see that the data is close to being normally distributed. The machine learning model is able to learn to predict cLogP well from the data it is given. For the Tanimoto similarity, the scores for the whole library of similarity to the reference compound from the final run are plotted, which have a large postive skew. There is lots of data for predicting Tanimoto similarities between 0.1 and 0.4, but very little data for scores above 0.4. So even though the machine learning model is using the same representation as is used to calculate the Tanimoto similarity (Morgan fingerprint), it doesn't have enough information to learn what makes a high score."
   ]
  },
  {
   "cell_type": "code",
   "execution_count": 9,
   "metadata": {},
   "outputs": [
    {
     "data": {
      "image/png": "[encoded data removed]",
      "text/plain": [
       "<Figure size 1200x500 with 2 Axes>"
      ]
     },
     "metadata": {},
     "output_type": "display_data"
    }
   ],
   "source": [
    "all_similarities = calc_similarity(library.index.to_list(), ref_smiles)\n",
    "fig, ax = plt.subplots(1, 2, figsize=(12, 5))\n",
    "sns.histplot(all_clogp_values, bins=50, alpha=0.5, label=\"True scores\", ax=ax[0])\n",
    "ax[0].set(title=\"cLogP values for library\", xlabel=\"cLogP\", ylabel=\"Frequency\")\n",
    "sns.histplot(all_similarities, bins=50, alpha=0.5, label=\"Predicted scores\", ax=ax[1])\n",
    "ax[1].set(\n",
    "    title=\"Tanimoto similarity to reference compound\",\n",
    "    xlabel=\"Similarity\",\n",
    "    ylabel=\"Frequency\",\n",
    ")\n",
    "plt.show()"
   ]
  },
  {
   "cell_type": "markdown",
   "metadata": {},
   "source": [
    "## Example 3: Docking using SMINA"
   ]
  },
  {
   "cell_type": "code",
   "execution_count": 8,
   "metadata": {},
   "outputs": [
    {
     "name": "stdout",
     "output_type": "stream",
     "text": [
      "Creating virtual library\n"
     ]
    },
    {
     "name": "stderr",
     "output_type": "stream",
     "text": [
      "100%|██████████| 132500/132500 [00:09<00:00, 14089.50it/s]\n"
     ]
    },
    {
     "name": "stdout",
     "output_type": "stream",
     "text": [
      "Creating Morgan fingerprints\n"
     ]
    }
   ],
   "source": [
    "# Active learning parameters\n",
    "COMPOUNDS_PER_ROUND = 2\n",
    "NUMBER_OF_ROUNDS = 50\n",
    "MINIMIZE = True\n",
    "NUMBER_OF_REPEATS = 10\n",
    "\n",
    "# Create the virtual library\n",
    "print(\"Creating virtual library\")\n",
    "library = build_virtual_library()\n",
    "\n",
    "# Create morgan fingerprints for the library\n",
    "print(\"Creating Morgan fingerprints\")\n",
    "fingerprints = create_morgan_fingerprints(library)"
   ]
  },
  {
   "cell_type": "code",
   "execution_count": 9,
   "metadata": {},
   "outputs": [
    {
     "name": "stdout",
     "output_type": "stream",
     "text": [
      "Running active learning\n"
     ]
    },
    {
     "name": "stderr",
     "output_type": "stream",
     "text": [
      "100%|██████████| 3/3 [4:54:58<00:00, 5899.39s/it]  "
     ]
    },
    {
     "name": "stdout",
     "output_type": "stream",
     "text": [
      "Average lowest docking score after screening 50 compounds: -9.14\n"
     ]
    },
    {
     "name": "stderr",
     "output_type": "stream",
     "text": [
      "\n"
     ]
    },
    {
     "data": {
      "image/png": "[encoded data removed]",
      "text/plain": [
       "<Figure size 640x480 with 1 Axes>"
      ]
     },
     "metadata": {},
     "output_type": "display_data"
    }
   ],
   "source": [
    "def dock_mols(smiles: list[str]) -> list[float]:\n",
    "    \"\"\"Dock the molecules to the SARS MPro protein and return the affinity of the best\n",
    "    pose for each.\n",
    "\n",
    "    Args:\n",
    "        smiles: list[str]: The molecules to dock\n",
    "\n",
    "    Returns:\n",
    "        list[float]: The affinities of the best pose for each input molecule\n",
    "    \"\"\"\n",
    "    mols = [Chem.MolFromSmiles(s) for s in smiles]\n",
    "    scores = []\n",
    "\n",
    "    for mol in mols:\n",
    "        with Chem.SDWriter(\"data/docking/tmp_conf.sdf\") as w:\n",
    "            m = Chem.AddHs(mol)\n",
    "            _ = AllChem.EmbedMultipleConfs(m, numConfs=5, numThreads=0)\n",
    "            confs = m.GetConformers()\n",
    "            for c in confs:\n",
    "                w.write(m, confId=c.GetId())\n",
    "\n",
    "        subprocess.run(\n",
    "            [\n",
    "                \"./smina.osx.12\",\n",
    "                \"--exhaustiveness\",\n",
    "                \"10\",\n",
    "                \"--cpu\",\n",
    "                \"10\",\n",
    "                \"--seed\",\n",
    "                \"0\",\n",
    "                \"--autobox_ligand\",\n",
    "                \"data/docking/ligand_only.pdb\",\n",
    "                \"-r\",\n",
    "                \"data/docking/protein_minus_ligand.pdb\",\n",
    "                \"-l\",\n",
    "                \"data/docking/tmp_conf.sdf\",\n",
    "                \"-o\",\n",
    "                \"data/docking/tmp_conf_docked.sdf.gz\",\n",
    "            ],\n",
    "            check=True,\n",
    "            stdout=subprocess.DEVNULL,\n",
    "        )\n",
    "\n",
    "        with gzip.open(\"data/docking/tmp_conf_docked.sdf.gz\", \"rb\") as f_in:\n",
    "            with open(\"data/docking/tmp_conf_docked.sdf\", \"wb\") as f_out:\n",
    "                shutil.copyfileobj(f_in, f_out)\n",
    "\n",
    "        # The output sdf wasn't loading so this is a workaround\n",
    "        with open(\"data/docking/tmp_conf_docked.sdf\", \"r\") as f:\n",
    "            text = f.read()\n",
    "        affinities = re.findall(r\"<minimizedAffinity>\\n(-\\d.\\d+)\", text)\n",
    "        affinities = [float(x) for x in affinities]\n",
    "\n",
    "        scores.append(min(affinities))\n",
    "\n",
    "    return scores\n",
    "\n",
    "\n",
    "# Active learning parameters\n",
    "COMPOUNDS_PER_ROUND = 5\n",
    "NUMBER_OF_ROUNDS = 10\n",
    "MINIMIZE = True\n",
    "NUMBER_OF_REPEATS = 3\n",
    "\n",
    "# Run active learning\n",
    "print(\"Running active learning\")\n",
    "scored_compounds_per_run = []\n",
    "cumulative_scores = {}\n",
    "for i in tqdm(range(NUMBER_OF_REPEATS)):\n",
    "    # Reset library between rounds\n",
    "    library[\"slow_scores\"] = np.NaN\n",
    "    library[\"model_scores\"] = np.NaN\n",
    "    library[\"scored_round\"] = np.NaN\n",
    "\n",
    "    # Active learning\n",
    "    library = run_active_learning(\n",
    "        library=library,\n",
    "        fingerprints=fingerprints,\n",
    "        compounds_per_round=COMPOUNDS_PER_ROUND,\n",
    "        number_of_rounds=NUMBER_OF_ROUNDS,\n",
    "        scoring_function=dock_mols,\n",
    "        minimize=MINIMIZE,\n",
    "    )\n",
    "\n",
    "    # Log results\n",
    "    top = library[~library.slow_scores.isna()].sort_values(\n",
    "        \"slow_scores\", ascending=MINIMIZE\n",
    "    )\n",
    "    scored_compounds_per_run.append(library.slow_scores.min())\n",
    "    cumulative_scores[f\"run_{i}\"] = [\n",
    "        library[library.scored_round <= j].slow_scores.min()\n",
    "        for j in range(NUMBER_OF_ROUNDS)\n",
    "    ]\n",
    "\n",
    "print(\n",
    "    f\"Average lowest docking score after screening {COMPOUNDS_PER_ROUND * NUMBER_OF_ROUNDS} compounds: {sum(scored_compounds_per_run) / len(scored_compounds_per_run):.2f}\"\n",
    ")\n",
    "\n",
    "# Plot the cumulative best score found in each round for the final run\n",
    "sns.lineplot(cumulative_scores).set(\n",
    "    xlabel=\"Round\", ylabel=\"Minimum docking score\", xticks=range(NUMBER_OF_ROUNDS)\n",
    ")\n",
    "plt.show()"
   ]
  },
  {
   "cell_type": "markdown",
   "metadata": {},
   "source": [
    "## Summary\n",
    "\n",
    "### Advantages of AL\n",
    "* Much faster than exhaustive searching.\n",
    "\n",
    "### Disadvantages\n",
    "* Requires enumerated library.\n",
    "* For ultra-large libraries, even scoring the entire library with the ML function may be too expensive."
   ]
  }
 ],
 "metadata": {
  "kernelspec": {
   "display_name": "active-learning",
   "language": "python",
   "name": "python3"
  },
  "language_info": {
   "codemirror_mode": {
    "name": "ipython",
    "version": 3
   },
   "file_extension": ".py",
   "mimetype": "text/x-python",
   "name": "python",
   "nbconvert_exporter": "python",
   "pygments_lexer": "ipython3",
   "version": "3.12.1"
  }
 },
 "nbformat": 4,
 "nbformat_minor": 2
}
